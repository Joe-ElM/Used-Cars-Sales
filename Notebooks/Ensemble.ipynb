{
 "cells": [
  {
   "cell_type": "code",
   "execution_count": 45,
   "metadata": {},
   "outputs": [],
   "source": [
    "# Import Modules and functions\n",
    "# ----------------------------\n",
    "from Functions import *\n",
    "from Modules   import *"
   ]
  },
  {
   "cell_type": "code",
   "execution_count": 46,
   "metadata": {},
   "outputs": [],
   "source": [
    "df    = pd.read_csv('..\\\\Data\\\\data_train.csv')\n",
    "X_aim = pd.read_csv('..\\\\Data\\\\features_aim.csv')\n",
    "# --- Clean and prepare data and Aim -----\n",
    "\n",
    "X_train, X_test, y_train, y_test, X_aim = CLEAN_All_DATA(df, X_aim)"
   ]
  },
  {
   "cell_type": "markdown",
   "metadata": {},
   "source": [
    "### Feature Enginnering"
   ]
  },
  {
   "cell_type": "code",
   "execution_count": 47,
   "metadata": {},
   "outputs": [],
   "source": [
    "\n",
    "# Features and number of clusters have alrerady been optimised\n",
    "\n",
    "X_train_copy        = X_train.copy()\n",
    "X_test_copy         = X_test.copy()\n",
    "X_aim_copy          = X_aim.copy()\n",
    "\n",
    "columns_k           = ['VehBCost', \n",
    "                       'VehicleAge', \n",
    "                       'VehOdo', \n",
    "                       'MMRAcquisitionAuctionAveragePrice'\n",
    "                      ]\n",
    "\n",
    "cluster_data        = X_train_copy[columns_k]\n",
    "\n",
    "scaler              = StandardScaler()\n",
    "scaled_cluster_data = scaler.fit_transform(cluster_data)  \n",
    "\n",
    "\n",
    "kmeans              = KMeans(n_clusters = 8, random_state = 42, n_init=10).fit(scaled_cluster_data)\n",
    "\n",
    "#---------------------------------------------\n",
    "X_train_copy['TransactionCluster'] = kmeans.labels_\n",
    "X_train_copy.TransactionCluster    = X_train_copy.TransactionCluster.astype('category')\n",
    "\n",
    "\n",
    "X_test_copy_cluster_data          = scaler.transform(X_test_copy[columns_k])  \n",
    "X_test_copy['TransactionCluster'] = kmeans.predict(X_test_copy_cluster_data)\n",
    "X_test_copy.TransactionCluster    = X_test_copy.TransactionCluster.astype('category')\n",
    "# ---------------\n",
    "X_aim_copy_cluster_data     = scaler.transform(X_aim_copy[columns_k])  \n",
    "X_aim_copy['TransactionCluster'] = kmeans.predict(X_aim_copy_cluster_data)\n",
    "X_aim_copy.TransactionCluster    = X_aim_copy.TransactionCluster.astype('category')\n",
    "\n",
    "# Adding the new categorical columns to the categorical list \n",
    "cat_cols_FE = cat_cols + ['TransactionCluster'] \n"
   ]
  },
  {
   "cell_type": "markdown",
   "metadata": {},
   "source": [
    "#### First RF Model"
   ]
  },
  {
   "cell_type": "code",
   "execution_count": 48,
   "metadata": {},
   "outputs": [
    {
     "name": "stdout",
     "output_type": "stream",
     "text": [
      "Scoring of RFC 1\n"
     ]
    },
    {
     "data": {
      "text/html": [
       "<style type=\"text/css\">\n",
       "</style>\n",
       "<table id=\"T_ae8e0\">\n",
       "  <thead>\n",
       "    <tr>\n",
       "      <th id=\"T_ae8e0_level0_col0\" class=\"col_heading level0 col0\" >Model</th>\n",
       "      <th id=\"T_ae8e0_level0_col1\" class=\"col_heading level0 col1\" >F1 Score</th>\n",
       "      <th id=\"T_ae8e0_level0_col2\" class=\"col_heading level0 col2\" >Recall</th>\n",
       "      <th id=\"T_ae8e0_level0_col3\" class=\"col_heading level0 col3\" >Precision</th>\n",
       "      <th id=\"T_ae8e0_level0_col4\" class=\"col_heading level0 col4\" >Accuracy</th>\n",
       "    </tr>\n",
       "  </thead>\n",
       "  <tbody>\n",
       "    <tr>\n",
       "      <td id=\"T_ae8e0_row0_col0\" class=\"data row0 col0\" >RFC 1</td>\n",
       "      <td id=\"T_ae8e0_row0_col1\" class=\"data row0 col1\" >0.434836</td>\n",
       "      <td id=\"T_ae8e0_row0_col2\" class=\"data row0 col2\" >0.421986</td>\n",
       "      <td id=\"T_ae8e0_row0_col3\" class=\"data row0 col3\" >0.448492</td>\n",
       "      <td id=\"T_ae8e0_row0_col4\" class=\"data row0 col4\" >0.858580</td>\n",
       "    </tr>\n",
       "  </tbody>\n",
       "</table>\n"
      ],
      "text/plain": [
       "<pandas.io.formats.style.Styler at 0x1ee4e71ef00>"
      ]
     },
     "metadata": {},
     "output_type": "display_data"
    },
    {
     "name": "stdout",
     "output_type": "stream",
     "text": [
      "-- -- -- -- -- -- -- -- -- -- -- -- -- -- -- -- -- -- -- -- -- -- -- -- -- -- -- -- -- -- \n"
     ]
    }
   ],
   "source": [
    "\n",
    "# RF GridSearch Without PCA and or Polynomial \n",
    "\n",
    "poly_pca_pipe             = Pipeline([('poly'  , PolynomialFeatures(degree=2)),\n",
    "                                      ('scaler', StandardScaler()),\n",
    "                                      ('pca'   , PCA(n_components=.99))\n",
    "                                    ])\n",
    "\n",
    "preprocessor              = ColumnTransformer([\n",
    "                                              ('num', poly_pca_pipe, num_cols),\n",
    "                                              ('cat', OneHotEncoder(handle_unknown='ignore'), cat_cols_FE)\n",
    "                                              ])\n",
    "\n",
    "rfc1                       = RandomForestClassifier(class_weight      = 'balanced',\n",
    "                                                   random_state      = 442, \n",
    "                                                   n_estimators      = 86,\n",
    "                                                   max_depth         = 36,\n",
    "                                                   min_samples_leaf  = 2,    \n",
    "                                                   min_samples_split = 11,  \n",
    "                                                 )\n",
    "\n",
    "pipeline_rfc_1            = Pipeline([('preprocessor', preprocessor),\n",
    "                                      ('rfClassifier', rfc1)\n",
    "                                       ])\n",
    "\n",
    "pipeline_rfc_1.fit(X_train_copy, y_train)\n",
    "\n",
    "pred_rfc_1                 = pipeline_rfc_1.predict(X_test_copy) \n",
    "\n",
    "f1_rfc_1          = f1_score(y_test       , pred_rfc_1)\n",
    "recall_rfc_1      = recall_score(y_test   , pred_rfc_1)\n",
    "precision_rfc_1   = precision_score(y_test, pred_rfc_1)\n",
    "accuracy_rfc_1    = accuracy_score(y_test , pred_rfc_1)\n",
    "\n",
    "\n",
    "rfc_1_metrics     = pd.DataFrame({\n",
    "                                    'Model'    : ['RFC 1'],\n",
    "                                    'F1 Score' : [f1_rfc_1],\n",
    "                                    'Recall'   : [recall_rfc_1],\n",
    "                                    'Precision': [precision_rfc_1],\n",
    "                                    'Accuracy' : [accuracy_rfc_1]\n",
    "                                    })\n",
    "\n",
    "print('Scoring of RFC 1')\n",
    "display(rfc_1_metrics.style.hide())\n",
    "print('-- '*30)\n",
    "#Confusion_Matrix_Func(y_test, pred_rfc_1, 'RFC 1')"
   ]
  },
  {
   "cell_type": "code",
   "execution_count": 49,
   "metadata": {},
   "outputs": [
    {
     "name": "stdout",
     "output_type": "stream",
     "text": [
      "Scoring of RFC 2\n"
     ]
    },
    {
     "data": {
      "text/html": [
       "<style type=\"text/css\">\n",
       "</style>\n",
       "<table id=\"T_c2f3d\">\n",
       "  <thead>\n",
       "    <tr>\n",
       "      <th id=\"T_c2f3d_level0_col0\" class=\"col_heading level0 col0\" >Model</th>\n",
       "      <th id=\"T_c2f3d_level0_col1\" class=\"col_heading level0 col1\" >F1 Score</th>\n",
       "      <th id=\"T_c2f3d_level0_col2\" class=\"col_heading level0 col2\" >Recall</th>\n",
       "      <th id=\"T_c2f3d_level0_col3\" class=\"col_heading level0 col3\" >Precision</th>\n",
       "      <th id=\"T_c2f3d_level0_col4\" class=\"col_heading level0 col4\" >Accuracy</th>\n",
       "    </tr>\n",
       "  </thead>\n",
       "  <tbody>\n",
       "    <tr>\n",
       "      <td id=\"T_c2f3d_row0_col0\" class=\"data row0 col0\" >RFC 2</td>\n",
       "      <td id=\"T_c2f3d_row0_col1\" class=\"data row0 col1\" >0.410294</td>\n",
       "      <td id=\"T_c2f3d_row0_col2\" class=\"data row0 col2\" >0.329787</td>\n",
       "      <td id=\"T_c2f3d_row0_col3\" class=\"data row0 col3\" >0.542802</td>\n",
       "      <td id=\"T_c2f3d_row0_col4\" class=\"data row0 col4\" >0.877781</td>\n",
       "    </tr>\n",
       "  </tbody>\n",
       "</table>\n"
      ],
      "text/plain": [
       "<pandas.io.formats.style.Styler at 0x1ee56c2fa10>"
      ]
     },
     "metadata": {},
     "output_type": "display_data"
    },
    {
     "name": "stdout",
     "output_type": "stream",
     "text": [
      "-- -- -- -- -- -- -- -- -- -- -- -- -- -- -- -- -- -- -- -- -- -- -- -- -- -- -- -- -- -- \n"
     ]
    }
   ],
   "source": [
    "\n",
    "# RF GridSearch Without PCA and or Polynomial \n",
    "\n",
    "poly_pca_pipe             = Pipeline([('poly'  , PolynomialFeatures(degree=2)),\n",
    "                                      ('scaler', StandardScaler()),\n",
    "                                      ('pca'   , PCA(n_components=.99))\n",
    "                                    ])\n",
    "\n",
    "preprocessor              = ColumnTransformer([\n",
    "                                              ('num', poly_pca_pipe, num_cols),\n",
    "                                              ('cat', OneHotEncoder(handle_unknown='ignore'), cat_cols_FE)\n",
    "                                              ])\n",
    "\n",
    "rfc2                       = RandomForestClassifier(class_weight      = 'balanced',\n",
    "                                                   random_state      = 442, \n",
    "                                                   n_estimators      = 86,\n",
    "                                                   max_depth         = 36,\n",
    "                                                   min_samples_leaf  = 1,    \n",
    "                                                   min_samples_split = 10,  \n",
    "                                                 )\n",
    "\n",
    "pipeline_rfc_2            = Pipeline([('preprocessor', preprocessor),\n",
    "                                      ('rfClassifier', rfc2)\n",
    "                                       ])\n",
    "\n",
    "pipeline_rfc_2.fit(X_train_copy, y_train)\n",
    "\n",
    "pred_rfc_2        = pipeline_rfc_2.predict(X_test_copy) \n",
    "\n",
    "f1_rfc_2          = f1_score(y_test       , pred_rfc_2)\n",
    "recall_rfc_2      = recall_score(y_test   , pred_rfc_2)\n",
    "precision_rfc_2   = precision_score(y_test, pred_rfc_2)\n",
    "accuracy_rfc_2    = accuracy_score(y_test , pred_rfc_2)\n",
    "\n",
    "\n",
    "rfc_2_metrics     = pd.DataFrame({\n",
    "                                    'Model'    : ['RFC 2'],\n",
    "                                    'F1 Score' : [f1_rfc_2],\n",
    "                                    'Recall'   : [recall_rfc_2],\n",
    "                                    'Precision': [precision_rfc_2],\n",
    "                                    'Accuracy' : [accuracy_rfc_2]\n",
    "                                    })\n",
    "\n",
    "print('Scoring of RFC 2')\n",
    "display(rfc_2_metrics.style.hide())\n",
    "print('-- '*30)\n",
    "#Confusion_Matrix_Func(y_test, pred_rfc_2, 'RFC 2')"
   ]
  },
  {
   "cell_type": "code",
   "execution_count": 55,
   "metadata": {},
   "outputs": [
    {
     "name": "stdout",
     "output_type": "stream",
     "text": [
      "Scoring of RFC 3\n"
     ]
    },
    {
     "data": {
      "text/html": [
       "<style type=\"text/css\">\n",
       "</style>\n",
       "<table id=\"T_e5cb0\">\n",
       "  <thead>\n",
       "    <tr>\n",
       "      <th id=\"T_e5cb0_level0_col0\" class=\"col_heading level0 col0\" >Model</th>\n",
       "      <th id=\"T_e5cb0_level0_col1\" class=\"col_heading level0 col1\" >F1 Score</th>\n",
       "      <th id=\"T_e5cb0_level0_col2\" class=\"col_heading level0 col2\" >Recall</th>\n",
       "      <th id=\"T_e5cb0_level0_col3\" class=\"col_heading level0 col3\" >Precision</th>\n",
       "      <th id=\"T_e5cb0_level0_col4\" class=\"col_heading level0 col4\" >Accuracy</th>\n",
       "    </tr>\n",
       "  </thead>\n",
       "  <tbody>\n",
       "    <tr>\n",
       "      <td id=\"T_e5cb0_row0_col0\" class=\"data row0 col0\" >RFC 3</td>\n",
       "      <td id=\"T_e5cb0_row0_col1\" class=\"data row0 col1\" >0.418651</td>\n",
       "      <td id=\"T_e5cb0_row0_col2\" class=\"data row0 col2\" >0.498818</td>\n",
       "      <td id=\"T_e5cb0_row0_col3\" class=\"data row0 col3\" >0.360684</td>\n",
       "      <td id=\"T_e5cb0_row0_col4\" class=\"data row0 col4\" >0.821396</td>\n",
       "    </tr>\n",
       "  </tbody>\n",
       "</table>\n"
      ],
      "text/plain": [
       "<pandas.io.formats.style.Styler at 0x1ee4f05aa20>"
      ]
     },
     "metadata": {},
     "output_type": "display_data"
    },
    {
     "name": "stdout",
     "output_type": "stream",
     "text": [
      "-- -- -- -- -- -- -- -- -- -- -- -- -- -- -- -- -- -- -- -- -- -- -- -- -- -- -- -- -- -- \n"
     ]
    }
   ],
   "source": [
    "# RF GridSearch Without PCA and or Polynomial \n",
    "\n",
    "poly_pca_pipe             = Pipeline([('poly'  , PolynomialFeatures(degree=2)),\n",
    "                                      ('scaler', StandardScaler()),\n",
    "                                      ('pca'   , PCA(n_components=.99))\n",
    "                                    ])\n",
    "\n",
    "preprocessor              = ColumnTransformer([\n",
    "                                              ('num', poly_pca_pipe, num_cols),\n",
    "                                              ('cat', OneHotEncoder(handle_unknown='ignore'), cat_cols_FE)\n",
    "                                              ])\n",
    "\n",
    "rfc3                       = RandomForestClassifier(class_weight      = 'balanced',\n",
    "                                                   random_state      = 442, \n",
    "                                                   n_estimators      = 86,\n",
    "                                                   max_depth         = 36,\n",
    "                                                   min_samples_leaf  = 5,    \n",
    "                                                   min_samples_split = 11,  \n",
    "                                                 )\n",
    "\n",
    "pipeline_rfc_3            = Pipeline([('preprocessor', preprocessor),\n",
    "                                      ('rfClassifier', rfc3)\n",
    "                                    ])\n",
    "\n",
    "pipeline_rfc_3.fit(X_train_copy, y_train)\n",
    "\n",
    "pred_rfc_3        = pipeline_rfc_3.predict(X_test_copy) \n",
    "\n",
    "f1_rfc_3          = f1_score(y_test       , pred_rfc_3)\n",
    "recall_rfc_3      = recall_score(y_test   , pred_rfc_3)\n",
    "precision_rfc_3   = precision_score(y_test, pred_rfc_3)\n",
    "accuracy_rfc_3    = accuracy_score(y_test , pred_rfc_3)\n",
    "\n",
    "\n",
    "rfc_3_metrics     = pd.DataFrame({\n",
    "                                  'Model'    : ['RFC 3'],\n",
    "                                  'F1 Score' : [f1_rfc_3],\n",
    "                                  'Recall'   : [recall_rfc_3],\n",
    "                                  'Precision': [precision_rfc_3],\n",
    "                                  'Accuracy' : [accuracy_rfc_3]\n",
    "                                   })\n",
    "\n",
    "print('Scoring of RFC 3')\n",
    "display(rfc_3_metrics.style.hide())\n",
    "print('-- '*30)\n",
    "#Confusion_Matrix_Func(y_test, pred_rfc_3, 'RFC 3')"
   ]
  },
  {
   "cell_type": "markdown",
   "metadata": {},
   "source": [
    "### Ensemble Model"
   ]
  },
  {
   "cell_type": "markdown",
   "metadata": {},
   "source": [
    "#### A combination of 3 RFCs with different scoring"
   ]
  },
  {
   "cell_type": "code",
   "execution_count": 56,
   "metadata": {},
   "outputs": [
    {
     "name": "stdout",
     "output_type": "stream",
     "text": [
      "Hard Voting Metrics:\n",
      "F1 Score  : 0.4364303178484108\n",
      "Recall    : 0.4219858156028369\n",
      "Precision : 0.4518987341772152\n",
      "Accuracy  : 0.8594940566900335\n"
     ]
    }
   ],
   "source": [
    "\n",
    "# from sklearn.ensemble import VotingClassifier\n",
    "# from sklearn.metrics import f1_score, recall_score, accuracy_score, precision_score\n",
    "\n",
    "ensemble_hard = VotingClassifier(estimators=[\n",
    "                                            ('rfc_1', pipeline_rfc_1),\n",
    "                                            ('rfc_2', pipeline_rfc_2),\n",
    "                                            ('rfc_3', pipeline_rfc_3)\n",
    "                                            ], voting='hard'\n",
    "                                 )\n",
    "\n",
    "ensemble_hard.fit(X_train_copy, y_train)\n",
    "predictions_hard = ensemble_hard.predict(X_test_copy)\n",
    "\n",
    "f1_hard          = f1_score(y_test, predictions_hard)\n",
    "recall_hard      = recall_score(y_test, predictions_hard)\n",
    "accuracy_hard    = accuracy_score(y_test, predictions_hard)\n",
    "precision_hard   = precision_score(y_test, predictions_hard)\n",
    "\n",
    "print(\"Hard Voting Metrics:\")\n",
    "print(\"F1 Score  :\", f1_hard)\n",
    "print(\"Recall    :\", recall_hard)\n",
    "print(\"Precision :\", precision_hard)\n",
    "print(\"Accuracy  :\", accuracy_hard)\n",
    "# ---------------------------------------------------------------------------\n",
    "\n",
    "# # Soft Voting\n",
    "# ensemble_soft = VotingClassifier(estimators=[\n",
    "#                                             ('rfc_1', pipeline_rfc_1),\n",
    "#                                             ('rfc_2', pipeline_rfc_2),\n",
    "#                                             ('rfc_3', pipeline_rfc_3)\n",
    "#                                             ], voting='soft', weights=[1, 1, 1]\n",
    "#                                  )\n",
    "\n",
    "# ensemble_soft.fit(X_train_copy, y_train)\n",
    "# predictions_soft = ensemble_soft.predict(X_test_copy)\n",
    "\n",
    "# f1_soft         = f1_score(y_test, predictions_soft)\n",
    "# recall_soft     = recall_score(y_test, predictions_soft)\n",
    "# accuracy_soft   = accuracy_score(y_test, predictions_soft)\n",
    "# precision_soft  = precision_score(y_test, predictions_soft)\n",
    "\n",
    "# print(\"\\nSoft Voting Metrics:\")\n",
    "# print(\"F1 Score  :\", f1_soft)\n",
    "# print(\"Recall    :\", recall_soft)\n",
    "# print(\"Precision :\", precision_soft)\n",
    "# print(\"Accuracy  :\", accuracy_soft)"
   ]
  },
  {
   "cell_type": "code",
   "execution_count": 58,
   "metadata": {},
   "outputs": [
    {
     "data": {
      "image/png": "[encoded data removed]",
      "text/plain": [
       "<Figure size 1000x600 with 2 Axes>"
      ]
     },
     "metadata": {},
     "output_type": "display_data"
    }
   ],
   "source": [
    "Confusion_Matrix_Func(y_test, predictions_hard, 'Ensemble Hard Voting')"
   ]
  }
 ],
 "metadata": {
  "kernelspec": {
   "display_name": "Python 3",
   "language": "python",
   "name": "python3"
  },
  "language_info": {
   "codemirror_mode": {
    "name": "ipython",
    "version": 3
   },
   "file_extension": ".py",
   "mimetype": "text/x-python",
   "name": "python",
   "nbconvert_exporter": "python",
   "pygments_lexer": "ipython3",
   "version": "3.12.0"
  }
 },
 "nbformat": 4,
 "nbformat_minor": 2
}
