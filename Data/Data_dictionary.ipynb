{
 "cells": [
  {
   "cell_type": "markdown",
   "metadata": {},
   "source": [
    "Column number | Column name | Type | Description\n",
    ":---|:---|:---|:----  \n",
    "1 | `'IsBadBuy'` | categorical (nominal) | Identifies whether the auctioned car is a \"lemon\", and therefore whether it was a bad buy (`0`= not a lemon, `1`= lemon)\n",
    "2  |  `'PurchDate'` | continuous (`datetime`) | The date the vehicle was purchased at the auction\n",
    "3 | `'Auction'` | categorical (nominal) | auction provider the vehicle was purchased from\n",
    "4  |  `'VehYear'` | continuous (`int`) | Vehicle's year model \n",
    "5  |  `'VehicleAge'` | continuous (`int`) | The age of the car at the time of the auction\n",
    "6  |  `'Make'` | categorical (nominal) | Car manufacturer\n",
    "7  |  `'Model'` | categorical (nominal) | Car model\n",
    "8  |  `'Trim'` | categorical (nominal) | Vehicle trim\n",
    "9  |  `'Make'` | categorical (nominal) | Car manufacturer\n",
    "10  |  `'Color'` | categorical (nominal) | Vehicle color\n",
    "11  |  `'Color'` | categorical (nominal) | Vehicle transmission type (automatic, manual)\n",
    "12  |  `'WheelTypeID'` | categorical (nominal) | The type ID of the wheel rims \n",
    "13  |  `'WheelTypeID'` | categorical (nominal) | The type of wheel rims\n",
    "14  |  `'VehOdo'` | continuous (`int`) | Vehicle mileage\n",
    "15  |  `'Nationality'` | categorical (nominal) | Manufacturer's country\n",
    "16  |  `'Size'` | categorical (nominal) | The size class of the vehicle (compact, SUV, etc.)\n",
    "17 | `'TopThreeAmericanName'` | categorical (nominal) | indicates whether the manufacturer is one of the three leading American car manufacturers.\n",
    "18  |  `'MMRAcquisitionAuctionAveragePrice'` | continuous (`int`) |The purchase price in USD for this vehicle in average condition at the time of acquisition.\n",
    "19  |  `'MMRAcquisitionAuctionAveragePrice'` | continuous (`int`) | The USD purchase price for this vehicle in above-average condition at the time of acquisition.\n",
    "20  |  `'MMRAcquisitionRetailAveragePrice'` | continuous (`int`) | The USD retail purchase price for this vehicle in average condition at the time of acquisition.\n",
    "21  |  `'MMRAcquisitonRetailCleanPrice'` | continuous (`int`) | The retail purchase price in USD for this vehicle in above-average condition at the time of acquisition.\n",
    "22  |  `'MMRCurrentAuctionAveragePrice'` | continuous (`int`) | Current day purchase price in USD for this vehicle in average condition\n",
    "23  |  `'MMRCurrentAuctionCleanPrice'` | continuous (`int`) | The present-day purchase price in USD for this vehicle in average condition.\n",
    "24  |  `'MMRCurrentRetailAveragePrice'` | continuous (`int`) | The present-day retail purchase price in USD for this vehicle in average condition.\n",
    "25  |  `'MMRCurrentRetailAveragePrice'` | continuous (`int`) | The current retail purchase price in USD for this vehicle in above-average condition.\n",
    "26  |  `'PRIMEUNIT'` | categorical (nominal) | Indicates whether the vehicle would exhibit greater demand than a standard purchase.\n",
    "27  |  `'AUCGUART'` | categorical (nominal) | The assurance level provided for the vehicle by the auction platform ('GREEN' - guarantee present, 'YELLOW' - guarantee unclear, 'RED' - no guarantee).\n",
    "28 | `'BYRNO'` | categorical (nominal) | Unique number assigned to the buyer who bought the vehicle\n",
    "29  |  `'VNZIP1'` | categorical (nominal) | Zip code where the vehicle was purchased\n",
    "30  |  `'VNST'` | categorical (nominal) |  State of the vehicle when it was purchased \n",
    "31 | `'VehBCost'` | continuous (`int`) | Purchase costs in US dollars paid for the vehicle at the time of purchase\n",
    "32  |  `'IsOnlineSale'` | categorical (nominal) |  Indicates whether the vehicle was originally purchased online.\n",
    "33 | `'WarrantyCost'` | continuous (`int`) | Cost of the warranty for a term of 36 months\n"
   ]
  }
 ],
 "metadata": {
  "kernelspec": {
   "display_name": "Python 3 (ipykernel)",
   "language": "python",
   "name": "python3"
  },
  "language_info": {
   "codemirror_mode": {
    "name": "ipython",
    "version": 3
   },
   "file_extension": ".py",
   "mimetype": "text/x-python",
   "name": "python",
   "nbconvert_exporter": "python",
   "pygments_lexer": "ipython3",
   "version": "3.8.10"
  }
 },
 "nbformat": 4,
 "nbformat_minor": 4
}
